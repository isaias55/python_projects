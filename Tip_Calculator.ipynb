{
  "nbformat": 4,
  "nbformat_minor": 0,
  "metadata": {
    "colab": {
      "name": "Tip_Calculator.ipynb",
      "provenance": [],
      "collapsed_sections": [],
      "authorship_tag": "ABX9TyPQiLhmljA4QuVeeBzrQ8DT",
      "include_colab_link": true
    },
    "kernelspec": {
      "name": "python3",
      "display_name": "Python 3"
    },
    "accelerator": "GPU"
  },
  "cells": [
    {
      "cell_type": "markdown",
      "metadata": {
        "id": "view-in-github",
        "colab_type": "text"
      },
      "source": [
        "<a href=\"https://colab.research.google.com/github/isaias55/python_projects/blob/main/Tip_Calculator.ipynb\" target=\"_parent\"><img src=\"https://colab.research.google.com/assets/colab-badge.svg\" alt=\"Open In Colab\"/></a>"
      ]
    },
    {
      "cell_type": "code",
      "metadata": {
        "colab": {
          "base_uri": "https://localhost:8080/"
        },
        "id": "n8i9rJxxFRIB",
        "outputId": "ff7dee04-1839-4019-f8bd-df25d0b8be5b"
      },
      "source": [
        "print(\"Welcome to the tip calculator.\")\n",
        "bill = float(input(\"What was the total bill?\\n\"))\n",
        "tip = int(input(\"What percentage would you like to give?\\n10, 12, 15: \"))\n",
        "if tip == 10:\n",
        "  tip = 1.10\n",
        "elif tip == 12:\n",
        "  tip = 1.12\n",
        "elif tip == 15:\n",
        "  tip = 1.15\n",
        "else:\n",
        "  tip = tip/100 + 1\n",
        "num_of_people = int(input(\"How many people to split the bill?\\n\"))\n",
        "total_each = (bill/num_of_people) * tip\n",
        "print(f\"The total amount each person will pay is {round(total_each, 2)} tip included!\")"
      ],
      "execution_count": null,
      "outputs": [
        {
          "output_type": "stream",
          "text": [
            "Welcome to the tip calculator.\n",
            "What was the total bill?\n",
            "150.22\n",
            "What percentage would you like to give?\n",
            "10, 12, 15: 10\n",
            "How many people to split the bill?\n",
            "3\n",
            "The total amount each person will pay is 55.08 tip included!\n"
          ],
          "name": "stdout"
        }
      ]
    }
  ]
}