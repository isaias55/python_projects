{
  "nbformat": 4,
  "nbformat_minor": 0,
  "metadata": {
    "colab": {
      "name": "Band_generator.ipynb",
      "provenance": [],
      "collapsed_sections": [],
      "authorship_tag": "ABX9TyMF6ZeP5k515CIz8dT8PlBm",
      "include_colab_link": true
    },
    "kernelspec": {
      "name": "python3",
      "display_name": "Python 3"
    }
  },
  "cells": [
    {
      "cell_type": "markdown",
      "metadata": {
        "id": "view-in-github",
        "colab_type": "text"
      },
      "source": [
        "<a href=\"https://colab.research.google.com/github/isaias55/python_projects/blob/main/Band_generator.ipynb\" target=\"_parent\"><img src=\"https://colab.research.google.com/assets/colab-badge.svg\" alt=\"Open In Colab\"/></a>"
      ]
    },
    {
      "cell_type": "code",
      "metadata": {
        "colab": {
          "base_uri": "https://localhost:8080/"
        },
        "id": "Jg3xEEGbEfNG",
        "outputId": "01535d34-17fe-482c-95ec-6d898b65b217"
      },
      "source": [
        "print(\"Hello welcome to band name generator!\")\n",
        "name = input(\"What is your name?\\n\")\n",
        "name_of_city = input(\"What city did you grow up in? \\n\")\n",
        "name_of_pet = input(\"What is your pets name? \\n\")\n",
        "\n",
        "print(f\"Awesome {name}! We have generated your band name! It is {name_of_city} {name_of_pet}! Rock On! \")"
      ],
      "execution_count": null,
      "outputs": [
        {
          "output_type": "stream",
          "text": [
            "Hello welcome to band name generator!\n"
          ],
          "name": "stdout"
        }
      ]
    },
    {
      "cell_type": "code",
      "metadata": {
        "id": "7Ut5pYrwE2TX"
      },
      "source": [
        ""
      ],
      "execution_count": null,
      "outputs": []
    }
  ]
}